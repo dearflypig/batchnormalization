{
 "cells": [
  {
   "cell_type": "code",
   "execution_count": 14,
   "metadata": {},
   "outputs": [],
   "source": [
    "import torch\n",
    "from torch.autograd import Variable\n",
    "import torch.nn as nn\n",
    "import torch.nn.functional as F\n",
    "import torch.utils.data as Data\n",
    "import matplotlib.pyplot as plt\n",
    "import numpy as np"
   ]
  },
  {
   "cell_type": "code",
   "execution_count": 15,
   "metadata": {},
   "outputs": [],
   "source": [
    "#train data\n",
    "x = np.linspace(-5, 5, 1000)[:, np.newaxis]\n",
    "y = np.square(x) + np.random.normal(0, 1, x.shape)\n",
    "train_x = torch.from_numpy(x).float()\n",
    "train_y = torch.from_numpy(y).float()\n",
    "\n",
    "# test data\n",
    "test_x = np.linspace(-5, 5, 100)[:, np.newaxis]\n",
    "test_y = np.square(test_x)  + np.random.normal(0, 1, test_x.shape)\n",
    "test_x = torch.from_numpy(test_x).float()\n",
    "test_y = torch.from_numpy(test_y).float()\n",
    "\n",
    "train_dataset = Data.TensorDataset(train_x, train_y)\n",
    "train_loader = Data.DataLoader(dataset=train_dataset, batch_size=64, shuffle=True, num_workers=2,)"
   ]
  },
  {
   "cell_type": "code",
   "execution_count": 16,
   "metadata": {},
   "outputs": [
    {
     "name": "stdout",
     "output_type": "stream",
     "text": [
      "data:  tensor([[1., 2.],\n",
      "        [3., 4.],\n",
      "        [5., 6.]])\n",
      "out_mybn: tensor([[-1.2247, -1.2247],\n",
      "        [ 0.0000,  0.0000],\n",
      "        [ 1.2247,  1.2247]], grad_fn=<AddBackward0>)\n",
      "out_bn tensor([[-0.6741, -0.4137],\n",
      "        [ 0.0000,  0.0000],\n",
      "        [ 0.6741,  0.4137]], grad_fn=<NativeBatchNormBackward>)\n"
     ]
    }
   ],
   "source": [
    "class MyBN(nn.Module):\n",
    "    def __init__(self, num_features):\n",
    "        super(MyBN, self).__init__()\n",
    "        self.gamma = nn.Parameter(torch.ones((num_features,)),requires_grad=True)\n",
    "        self.beta = nn.Parameter(torch.zeros((num_features,)),requires_grad=True)\n",
    "        self.moving_mean = torch.zeros((num_features,))\n",
    "        self.moving_var = torch.zeros((num_features,))\n",
    "\n",
    "    def forward(self, x):\n",
    "        eps=1e-6\n",
    "        momentum=0.5\n",
    "        if self.training==False:\n",
    "            x_ = (x - self.moving_mean) / torch.sqrt(self.moving_var + eps)  \n",
    "        else:\n",
    "            xmean = torch.mean(x,dim=0)\n",
    "            xvar=torch.mean(((x-xmean)**2),dim=0)\n",
    "            x_ = (x - xmean) / torch.sqrt(xvar + eps) \n",
    "            self.moving_mean = momentum * self.moving_mean + (1.0 - momentum) * xmean\n",
    "            self.moving_var = momentum * self.moving_var + (1.0 - momentum) * xvar\n",
    "        out = self.gamma * x_ + self.beta  \n",
    "        return out\n",
    "\n",
    "#使用自定义的BN层测试其对数据的标准化功能\n",
    "data = np.array([[1, 2],[3, 4],[5, 6]]).astype(np.float32)\n",
    "data = torch.from_numpy(data)\n",
    "print('data: ',data)\n",
    "\n",
    "my_bn = MyBN(num_features=2)\n",
    "out_mybn = my_bn(data)\n",
    "print('out_mybn:',out_mybn)\n",
    "\n",
    "bn=nn.BatchNorm1d(num_features=2)\n",
    "out=bn(data)\n",
    "print('out_bn',out)\n"
   ]
  },
  {
   "cell_type": "code",
   "execution_count": 17,
   "metadata": {},
   "outputs": [],
   "source": [
    "class Net(torch.nn.Module):\n",
    "    def __init__(self):\n",
    "        super(Net,self).__init__()\n",
    "        self.fc0=nn.Linear(1,10)\n",
    "        self.bn0=MyBN(num_features=10)\n",
    "        self.fc1=nn.Linear(10,10)\n",
    "        self.bn1=MyBN(num_features=10)\n",
    "        self.fc2=nn.Linear(10,10)\n",
    "        self.bn2=MyBN(num_features=10)\n",
    "        self.fc3=nn.Linear(10,10)\n",
    "        self.bn3=MyBN(num_features=10)\n",
    "        self.predict=nn.Linear(10,1)\n",
    "    def forward(self,x):\n",
    "        x = self.fc0(x)\n",
    "        x = self.bn0(x)   # batch normalization\n",
    "        x = torch.tanh(x)\n",
    "\n",
    "        x = self.fc1(x)\n",
    "        x = self.bn1(x)   # batch normalization\n",
    "        x = torch.tanh(x)\n",
    "\n",
    "        x = self.fc2(x)\n",
    "        x = self.bn2(x)   # batch normalization\n",
    "        x = torch.tanh(x)\n",
    "\n",
    "        x = self.fc3(x)\n",
    "        x = self.bn3(x)   # batch normalization\n",
    "        x = torch.tanh(x)\n",
    "\n",
    "        out=self.predict(x)\n",
    "        return out\n"
   ]
  },
  {
   "cell_type": "code",
   "execution_count": 18,
   "metadata": {},
   "outputs": [
    {
     "name": "stdout",
     "output_type": "stream",
     "text": [
      "Epoch:  0\n",
      "Epoch:  1\n",
      "Epoch:  2\n",
      "Epoch:  3\n",
      "Epoch:  4\n",
      "Epoch:  5\n",
      "Epoch:  6\n",
      "Epoch:  7\n",
      "Epoch:  8\n",
      "Epoch:  9\n",
      "[124.98748779296875, 114.58993530273438, 68.60039520263672, 34.71574020385742, 20.85740089416504, 13.82719898223877, 9.199217796325684, 9.124300956726074, 5.778389930725098, 6.117847442626953]\n"
     ]
    }
   ],
   "source": [
    "net=Net() \n",
    "opt=torch.optim.Adam(net.parameters(),lr=0.02)\n",
    "#print(opt.param_groups) \n",
    "loss_func=nn.MSELoss()\n",
    "if __name__ == \"__main__\":\n",
    "    l=[]                                  #loss\n",
    "    for epoch in range(10):\n",
    "        print('Epoch: ', epoch)\n",
    "        net.eval()                       #测试模式    \n",
    "        pred= net(test_x)\n",
    "        l.append(loss_func(pred, test_y).data.item())\n",
    "        net.train()                      #训练模式\n",
    "        \n",
    "        for step, (b_x, b_y) in enumerate(train_loader):\n",
    "            pred= net(b_x)\n",
    "            loss = loss_func(pred, b_y)\n",
    "            opt.zero_grad()\n",
    "            loss.backward()\n",
    "            opt.step()    # it will also learns the parameters in Batch Normalization\n",
    "   \n",
    "    print(l)"
   ]
  },
  {
   "cell_type": "code",
   "execution_count": 6,
   "metadata": {},
   "outputs": [
    {
     "data": {
      "image/png": "[encoded data removed]",
      "text/plain": [
       "<matplotlib.figure.Figure at 0x1a6400f54e0>"
      ]
     },
     "metadata": {
      "needs_background": "light"
     },
     "output_type": "display_data"
    },
    {
     "data": {
      "image/png": "[encoded data removed]",
      "text/plain": [
       "<matplotlib.figure.Figure at 0x1a640112278>"
      ]
     },
     "metadata": {
      "needs_background": "light"
     },
     "output_type": "display_data"
    }
   ],
   "source": [
    "    #可视化loss\n",
    "    plt.figure(1)\n",
    "    plt.plot(l, c='#74BCFF', lw=2, label='Batch Normalization')\n",
    "    plt.xlabel('step');plt.ylabel('test loss');plt.ylim((0, 200));plt.legend(loc='best')\n",
    "\n",
    "    #测试，并且将拟合曲线展示出来\n",
    "    net.eval() \n",
    "    preds = net(test_x)\n",
    "    plt.figure(2)\n",
    "    plt.plot(test_x.data.numpy(), preds.data.numpy(), c='#74BCFF', lw=3, label='Batch Normalization')\n",
    "    plt.scatter(test_x.data.numpy(), test_y.data.numpy(), c='r', s=50, alpha=0.2, label='train')\n",
    "    plt.legend(loc='best')\n",
    "    plt.show()"
   ]
  },
  {
   "cell_type": "code",
   "execution_count": null,
   "metadata": {},
   "outputs": [],
   "source": []
  }
 ],
 "metadata": {
  "kernelspec": {
   "display_name": "Python 3",
   "language": "python",
   "name": "python3"
  },
  "language_info": {
   "codemirror_mode": {
    "name": "ipython",
    "version": 3
   },
   "file_extension": ".py",
   "mimetype": "text/x-python",
   "name": "python",
   "nbconvert_exporter": "python",
   "pygments_lexer": "ipython3",
   "version": "3.6.3"
  }
 },
 "nbformat": 4,
 "nbformat_minor": 4
}
